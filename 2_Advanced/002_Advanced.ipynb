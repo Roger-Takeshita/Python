{
 "cells": [
  {
   "cell_type": "markdown",
   "metadata": {},
   "source": [
    "<h1 id='advanced'>Advanced</h1>\n",
    "\n",
    "<h2 id='classes'>Classes</h2>\n",
    "\n",
    "-   Classes provide a means of bundling data and functionality together. Creating a new class creates a new type of object, allowing new instances of that type to be made. Each class instance can have attributes attached to it for maintaining its state. Class instances can also have methods (defined by its class) for modifying its state.\n",
    "-   The convention when we are creating a class is to capitalize the first letter of each word and singular.\n",
    "-   The `__init__` method (constructor) is instantiated every time we instantiate a new object of our class\n",
    "\n",
    "    -   In the constructor we could also create validations before creating the object, we could give default values"
   ]
  },
  {
   "cell_type": "code",
   "execution_count": 9,
   "metadata": {},
   "outputs": [
    {
     "name": "stdout",
     "output_type": "stream",
     "text": [
      "My name is Tom\n",
      "None\n"
     ]
    }
   ],
   "source": [
    "class PlayerCharacter:\n",
    "    membership = True\n",
    "\n",
    "    #! constructor\n",
    "    def __init__(self, name, age):\n",
    "        if (age > 18):\n",
    "            self.name = name  # attribute the constructor\n",
    "            self.age = age\n",
    "\n",
    "    #! method\n",
    "    def shout(self):\n",
    "        print(f'My name is {self.name}')\n",
    "\n",
    "player1 = PlayerCharacter('Tom', 19)\n",
    "print(player1.shout())"
   ]
  },
  {
   "cell_type": "markdown",
   "metadata": {},
   "source": [
    "<h3 id='attributesandmethods'>Attributes and Methods</h3>"
   ]
  },
  {
   "cell_type": "code",
   "execution_count": 8,
   "metadata": {},
   "outputs": [
    {
     "name": "stdout",
     "output_type": "stream",
     "text": [
      "My name is Roger\n",
      "None\n",
      "My name is Thaisa\n",
      "None\n",
      "My name is Yumi\n",
      "None\n"
     ]
    }
   ],
   "source": [
    "class PlayerCharacter:\n",
    "    #! attribute\n",
    "    membership = True\n",
    "\n",
    "    #! constructor\n",
    "    def __init__(self, name, age):\n",
    "        # if (self.membership): #+ we could also access like this\n",
    "        if (PlayerCharacter.membership):\n",
    "            self.name = name  # attribute the constructor\n",
    "            self.age = age\n",
    "\n",
    "    #! method\n",
    "    def shout(self):\n",
    "        print(f'My name is {self.name}')\n",
    "\n",
    "player1 = PlayerCharacter('Roger', 33)\n",
    "player2 = PlayerCharacter('Thaisa', 32)\n",
    "player3 = PlayerCharacter('Yumi', 3)\n",
    "print(player1.shout())\n",
    "print(player2.shout())\n",
    "print(player3.shout())"
   ]
  },
  {
   "cell_type": "markdown",
   "metadata": {},
   "source": [
    "<h3 id='overridingmethods'>Overriding Methods</h3>\n",
    "\n",
    "-   We can change this behavior by overriding the `__str__` method that the print function calls automatically to obtain the string to print out."
   ]
  },
  {
   "cell_type": "code",
   "execution_count": 16,
   "metadata": {},
   "outputs": [
    {
     "name": "stdout",
     "output_type": "stream",
     "text": [
      "My custom print, player: Roger\n"
     ]
    }
   ],
   "source": [
    "class PlayerCharacter:\n",
    "    membership = True\n",
    "\n",
    "    def __init__(self, name, age):\n",
    "        self.name = name\n",
    "        self.age = age\n",
    "\n",
    "    def __str__(self):\n",
    "        return f'My custom print, player: {self.name}'\n",
    "\n",
    "    def shout(self):\n",
    "        print(f'My name is {self.name}')\n",
    "\n",
    "player1 = PlayerCharacter('Roger', 33)\n",
    "print(player1)"
   ]
  },
  {
   "cell_type": "markdown",
   "metadata": {},
   "source": [
    "<h3 id='classmethodsandstaticmethods'>@classmethod and @staticmethod</h3>\n",
    "\n",
    "<h4 id='classmethods'>@classmethod</h4>\n",
    "\n",
    "-   **@classmethod** is decorator that we add before defining the class method\n",
    "-   with **@classmethod** we could instantiate a new object without the need to instantiate the class\n",
    "-   The naming convention of the first parameter is to use `cls` instead of `self`\n",
    "-   the first parameter is always `cls`, `cls` stands for **class**"
   ]
  },
  {
   "cell_type": "code",
   "execution_count": 10,
   "metadata": {},
   "outputs": [
    {
     "name": "stdout",
     "output_type": "stream",
     "text": [
      "Tom\n",
      "21\n"
     ]
    }
   ],
   "source": [
    "class PlayerCharacter:\n",
    "    membership = True\n",
    "\n",
    "    #! constructor\n",
    "    def __init__(self, name, age):\n",
    "        if (age > 18):\n",
    "            self.name = name  # attribute the constructor\n",
    "            self.age = age\n",
    "\n",
    "    #! method\n",
    "    def shout(self):\n",
    "        print(f'My name is {self.name}')\n",
    "\n",
    "    #! decorator\n",
    "    #+ class method\n",
    "    @classmethod\n",
    "    def adding_new_member(cls, num1, num2):\n",
    "        return cls('Tom', num1+num2)\n",
    "\n",
    "player3 = PlayerCharacter.adding_new_member(10, 11)\n",
    "print(player3.name)\n",
    "print(player3.age)"
   ]
  },
  {
   "cell_type": "markdown",
   "metadata": {},
   "source": [
    "<h4 id='staticmethod'>@staticmethod</h4>\n",
    "\n",
    "-   **@staticmethod** works the same way as **@classmethod** the only difference is that we don't need to define the `cls` as first parameter because **@staticmethod** doesn't have access to the class properties.\n",
    "-   We just want to perform a certain method"
   ]
  },
  {
   "cell_type": "code",
   "execution_count": 12,
   "metadata": {},
   "outputs": [
    {
     "name": "stdout",
     "output_type": "stream",
     "text": [
      "2\n"
     ]
    }
   ],
   "source": [
    "class PlayerCharacter:\n",
    "    membership = True\n",
    "\n",
    "    #! constructor\n",
    "    def __init__(self, name, age):\n",
    "        if (age > 18):\n",
    "            self.name = name  # attribute the constructor\n",
    "            self.age = age\n",
    "\n",
    "    #! method\n",
    "    def shout(self):\n",
    "        print(f'My name is {self.name}')\n",
    "\n",
    "    #! decorator\n",
    "    #+ class method\n",
    "    @classmethod\n",
    "    def adding_new_member(cls, num1, num2):\n",
    "        return cls('Tom', num1 + num2)\n",
    "        \n",
    "    #+ static method\n",
    "    @staticmethod\n",
    "    def sum_number(num1, num2):\n",
    "        return num1 + num2\n",
    "\n",
    "print(PlayerCharacter.sum_number(1, 1))"
   ]
  },
  {
   "cell_type": "markdown",
   "metadata": {},
   "source": [
    "<h3 id='privateandpublic'>Private and Public Variables</h3>\n",
    "\n",
    "-   Python doesn't have **public** and **private** variables that will prevent the user from changing the property of our class, but it's a convention to add `_` (single underscore) before the the variable that you want to indicate that is a private variable"
   ]
  },
  {
   "cell_type": "code",
   "execution_count": 14,
   "metadata": {},
   "outputs": [
    {
     "name": "stdout",
     "output_type": "stream",
     "text": [
      "My name is Roger, and I am 33 years old\n",
      "Thaisa\n",
      "This is a string now\n",
      "I can do whatever I want\n"
     ]
    }
   ],
   "source": [
    "class PlayerCharacter:\n",
    "    def __init__(self, name, age):\n",
    "        self._name = name\n",
    "        self._age = age\n",
    "\n",
    "    def run(self):\n",
    "        print('run')\n",
    "\n",
    "    def speak(self):\n",
    "        print(f'My name is {self._name}, and I am {self._age} years old')\n",
    "\n",
    "player1 = PlayerCharacter('Roger', 33)\n",
    "player1.speak()\n",
    "\n",
    "player2 = PlayerCharacter('Thaisa', 32)\n",
    "player2._age = 'This is a string now'\n",
    "player2.speak = 'I can do whatever I want'\n",
    "print(player2._name)\n",
    "print(player2._age)\n",
    "print(player2.speak)"
   ]
  },
  {
   "cell_type": "markdown",
   "metadata": {},
   "source": [
    "<h3 id='inheritance'>Inheritance</h3>"
   ]
  },
  {
   "cell_type": "code",
   "execution_count": 17,
   "metadata": {},
   "outputs": [
    {
     "name": "stdout",
     "output_type": "stream",
     "text": [
      "logged in\n",
      "logged in\n",
      "attacking with power of 100\n",
      "attacking with arrows: arrows left - 10\n"
     ]
    }
   ],
   "source": [
    "class User:\n",
    "      def sign_in(self):\n",
    "          print('logged in')\n",
    "\n",
    "class Wizard(User):\n",
    "      def __init__(self, name, power):\n",
    "          self.name = name\n",
    "          self.power = power\n",
    "\n",
    "      def attack(self):\n",
    "          print(f'attacking with power of {self.power}')\n",
    "\n",
    "class Archer(User):\n",
    "      def __init__(self, name, num_arrows):\n",
    "          self.name = name\n",
    "          self.num_arrows = num_arrows\n",
    "\n",
    "      def attack(self):\n",
    "          print(f'attacking with arrows: arrows left - {self.num_arrows}')\n",
    "\n",
    "wizard1 = Wizard('Roger', 100)\n",
    "wizard2 = Archer('Robin', 10)\n",
    "wizard1.sign_in()\n",
    "wizard2.sign_in()\n",
    "wizard1.attack()\n",
    "wizard2.attack()"
   ]
  },
  {
   "cell_type": "markdown",
   "metadata": {},
   "source": [
    "<h3 id='isinstance'>isinstance()</h3>\n",
    "\n",
    "-   It's a builtin function in Python that checks if it's an instance of a class."
   ]
  },
  {
   "cell_type": "code",
   "execution_count": 20,
   "metadata": {},
   "outputs": [
    {
     "name": "stdout",
     "output_type": "stream",
     "text": [
      "True\n"
     ]
    }
   ],
   "source": [
    "class User:\n",
    "      def sign_in(self):\n",
    "          print('logged in')\n",
    "\n",
    "class Wizard(User):\n",
    "      def __init__(self, name, power):\n",
    "          self.name = name\n",
    "          self.power = power\n",
    "\n",
    "      def attack(self):\n",
    "          print(f'attacking with power of {self.power}')\n",
    "\n",
    "class Archer(User):\n",
    "      def __init__(self, name, num_arrows):\n",
    "          self.name = name\n",
    "          self.num_arrows = num_arrows\n",
    "\n",
    "      def attack(self):\n",
    "          print(f'attacking with arrows: arrows left - {self.num_arrows}')\n",
    "\n",
    "wizard1 = Wizard('Roger', 100)\n",
    "print(isinstance(wizard1, Wizard))"
   ]
  },
  {
   "cell_type": "markdown",
   "metadata": {},
   "source": [
    "<h3 id='super'>super()</h3>\n",
    "\n",
    "-   The `super()` function in Python makes class inheritance more manageable and extensible. The function returns a temporary object that allows reference to a parent class by the keyword super.\n",
    "-   The `super()` function has two major use cases:\n",
    "    -   To avoid the usage of the super (parent) class explicitly.\n",
    "    -   To enable multiple inheritances​."
   ]
  },
  {
   "cell_type": "code",
   "execution_count": 2,
   "metadata": {},
   "outputs": [
    {
     "name": "stdout",
     "output_type": "stream",
     "text": [
      "The mobile is: Apple\n",
      "The RAM is: 2\n",
      "The storage is: 64\n",
      "The model is: iPhone X\n"
     ]
    }
   ],
   "source": [
    "class Computer():\n",
    "      def __init__(self, computer, ram, storage):\n",
    "          self.computer = computer\n",
    "          self.ram = ram\n",
    "          self.storage = storage\n",
    "\n",
    "class Mobile(Computer):\n",
    "      def __init__(self, computer, ram, storage, model):\n",
    "          super().__init__(computer, ram, storage)\n",
    "          self.model = model\n",
    "\n",
    "Apple = Mobile('Apple', 2, 64, 'iPhone X')\n",
    "print('The mobile is:', Apple.computer)\n",
    "print('The RAM is:', Apple.ram)\n",
    "print('The storage is:', Apple.storage)\n",
    "print('The model is:', Apple.model)"
   ]
  },
  {
   "cell_type": "markdown",
   "metadata": {},
   "source": [
    "<h2 id='functionalprogramming'>Functional Programming</h2>\n",
    "\n",
    "-   What is function programming:\n",
    "    -   Clear + Understandable\n",
    "    -   Easy to Extend\n",
    "    -   Easy to Maintain\n",
    "    -   Memory Efficient\n",
    "    -   Dry\n",
    "\n",
    "<h3 id='purefunction'>Pure Function</h3>\n",
    "\n",
    "-   Pure functions rules:\n",
    "    -   Given the same input, the function always return us the same output\n",
    "    -   The function should not produce side effects\n",
    "        -   For example:\n",
    "            -   should not have a `print()` inside this function\n",
    "            -   should not modify an outside variable\n",
    "\n",
    "<h3 id='map'>map()</h3>\n",
    "\n",
    "- Make an iterator that computes the function using arguments from each of the iterables. Stops when the shortest iterable is exhausted."
   ]
  },
  {
   "cell_type": "code",
   "execution_count": 13,
   "metadata": {
    "scrolled": true
   },
   "outputs": [
    {
     "name": "stdout",
     "output_type": "stream",
     "text": [
      "new list = [2, 4, 6]\n",
      "original list = [1, 2, 3]\n"
     ]
    }
   ],
   "source": [
    "array = [1, 2, 3]\n",
    "\n",
    "def multiply_by2(array):\n",
    "    return array*2\n",
    "\n",
    "print('new list =', list(map(multiply_by2, array)))\n",
    "print('original list =', array)"
   ]
  },
  {
   "cell_type": "markdown",
   "metadata": {},
   "source": [
    "\n",
    "   - In this case we had to convert into a list, otherwise, python will only print the memory location\n",
    "   - Notice that we don't need to execute the function `()`, we just have to point to the function and `map()` will take care for us\n",
    "   - Just like in JavaScript, `map()` creates a new list (new array in JS) and doesn't affect the original list (array)\n"
   ]
  },
  {
   "cell_type": "markdown",
   "metadata": {},
   "source": [
    "<h3 id='filter'>filer()</h3>\n",
    "\n",
    "-   The filter returns a new list (array) filtered by the condition. If the condition is equal to `True` then the filter will keep the item.\n",
    "-   Just like in JavaScript, `filter()` creates a new list (array in JS) and doesn't effect the original list (array)"
   ]
  },
  {
   "cell_type": "code",
   "execution_count": 15,
   "metadata": {},
   "outputs": [
    {
     "name": "stdout",
     "output_type": "stream",
     "text": [
      "new list = [1, 3, 5]\n",
      "original list = [1, 2, 3, 4, 5]\n"
     ]
    }
   ],
   "source": [
    "array = [1, 2, 3, 4, 5]\n",
    "\n",
    "def check_odd(array):\n",
    "    return array % 2 != 0\n",
    "\n",
    "print('new list =', list(filter(check_odd, array)))\n",
    "print('original list =', array)"
   ]
  },
  {
   "cell_type": "markdown",
   "metadata": {},
   "source": [
    "<h3 id='zip'>zip()</h3>\n",
    "\n",
    "-   The `zip()` function returns a zip object, which is an iterator of tuples where the first item in each passed iterator is paired together, and then the second item in each passed iterator are paired together etc.\n",
    "-   If the passed iterators have different lengths, the iterator with the least items decides the length of the new iterator."
   ]
  },
  {
   "cell_type": "code",
   "execution_count": 16,
   "metadata": {},
   "outputs": [
    {
     "name": "stdout",
     "output_type": "stream",
     "text": [
      "[(1, 'a', 'I'), (2, 'b', 'II'), (3, 'c', 'III')]\n"
     ]
    }
   ],
   "source": [
    "my_list = [1, 2, 3]\n",
    "your_list = [\"a\", \"b\", \"c\", \"d\"]\n",
    "their_list = [\"I\", \"II\", \"III\", \"IV\"]\n",
    "\n",
    "print(list(zip(my_list, your_list, their_list)))"
   ]
  },
  {
   "cell_type": "markdown",
   "metadata": {},
   "source": [
    "<h3 id='reduce'>reduce()</h3>\n",
    "\n",
    "-   Reduce doesn't come with Python by default, we have to import form `functools`\n",
    "-   Python’s `reduce()` is a function that implements a mathematical technique called folding or reduction. `reduce()` is useful when you need to apply a function to an iterable and reduce it to a single cumulative value."
   ]
  },
  {
   "cell_type": "code",
   "execution_count": 17,
   "metadata": {},
   "outputs": [
    {
     "name": "stdout",
     "output_type": "stream",
     "text": [
      "6\n"
     ]
    }
   ],
   "source": [
    "from functools import reduce\n",
    "my_list = [1, 2, 3]\n",
    "\n",
    "def sum_list(accumulator, array):\n",
    "    return accumulator + array\n",
    "\n",
    "print(reduce(sum_list, my_list, 0))"
   ]
  },
  {
   "cell_type": "markdown",
   "metadata": {},
   "source": [
    "<h3 id='lambdaexpression'>Lambada Expressions</h3>\n",
    "\n",
    "```Python\n",
    "  lambda param: action(param)\n",
    "```"
   ]
  },
  {
   "cell_type": "code",
   "execution_count": 18,
   "metadata": {},
   "outputs": [
    {
     "name": "stdout",
     "output_type": "stream",
     "text": [
      "[2, 4, 6]\n",
      "[2, 4, 6]\n"
     ]
    }
   ],
   "source": [
    "my_list = [1, 2, 3]\n",
    "def multiply_by2(item):\n",
    "  return item * 2\n",
    "\n",
    "print(list(map(multiply_by2,my_list)))\n",
    "print(list(map(lambda item: item*2, my_list)))"
   ]
  },
  {
   "cell_type": "code",
   "execution_count": 19,
   "metadata": {},
   "outputs": [
    {
     "name": "stdout",
     "output_type": "stream",
     "text": [
      "6\n"
     ]
    }
   ],
   "source": [
    "from functools import reduce\n",
    "\n",
    "my_list = [1, 2, 3]\n",
    "\n",
    "print(reduce(lambda acc, item: acc+item, my_list))"
   ]
  },
  {
   "cell_type": "markdown",
   "metadata": {},
   "source": [
    "<h2 id='listcomprehensions'>List Comprehensions</h2>\n",
    "\n",
    "-   how it works\n",
    "-   Variable = **[** new_variable/expression **for** use_this_variable **in** string **]**"
   ]
  },
  {
   "cell_type": "code",
   "execution_count": 21,
   "metadata": {},
   "outputs": [
    {
     "name": "stdout",
     "output_type": "stream",
     "text": [
      "['h', 'e', 'l', 'l', 'o']\n",
      "\n",
      "[0, 1, 2, 3, 4, 5, 6, 7, 8, 9, 10, 11, 12, 13, 14, 15, 16, 17, 18, 19, 20, 21, 22, 23, 24, 25, 26, 27, 28, 29, 30, 31, 32, 33, 34, 35, 36, 37, 38, 39, 40, 41, 42, 43, 44, 45, 46, 47, 48, 49, 50, 51, 52, 53, 54, 55, 56, 57, 58, 59, 60, 61, 62, 63, 64, 65, 66, 67, 68, 69, 70, 71, 72, 73, 74, 75, 76, 77, 78, 79, 80, 81, 82, 83, 84, 85, 86, 87, 88, 89, 90, 91, 92, 93, 94, 95, 96, 97, 98, 99]\n",
      "\n",
      "[0, 2, 4, 6, 8, 10, 12, 14, 16, 18, 20, 22, 24, 26, 28, 30, 32, 34, 36, 38, 40, 42, 44, 46, 48, 50, 52, 54, 56, 58, 60, 62, 64, 66, 68, 70, 72, 74, 76, 78, 80, 82, 84, 86, 88, 90, 92, 94, 96, 98, 100, 102, 104, 106, 108, 110, 112, 114, 116, 118, 120, 122, 124, 126, 128, 130, 132, 134, 136, 138, 140, 142, 144, 146, 148, 150, 152, 154, 156, 158, 160, 162, 164, 166, 168, 170, 172, 174, 176, 178, 180, 182, 184, 186, 188, 190, 192, 194, 196, 198]\n",
      "\n",
      "[0, 4, 8, 12, 16, 20, 24, 28, 32, 36, 40, 44, 48, 52, 56, 60, 64, 68, 72, 76, 80, 84, 88, 92, 96, 100, 104, 108, 112, 116, 120, 124, 128, 132, 136, 140, 144, 148, 152, 156, 160, 164, 168, 172, 176, 180, 184, 188, 192, 196]\n"
     ]
    }
   ],
   "source": [
    "my_list = [char for char in 'hello'];\n",
    "print(my_list)\n",
    "print()\n",
    "\n",
    "my_list2 = [num for num in range(0, 100)]\n",
    "print(my_list2)\n",
    "print()\n",
    "\n",
    "my_list3 = [num*2 for num in range(0, 100)]\n",
    "print(my_list3)\n",
    "print()\n",
    "\n",
    "my_list4 = [num*2 for num in range(0, 100) if num % 2 == 0]\n",
    "print(my_list4)"
   ]
  },
  {
   "cell_type": "markdown",
   "metadata": {},
   "source": [
    "<h3 id='dictionarycomprehension'>Dictionary Comprehension</h3>"
   ]
  },
  {
   "cell_type": "code",
   "execution_count": 22,
   "metadata": {},
   "outputs": [
    {
     "name": "stdout",
     "output_type": "stream",
     "text": [
      "{'a': 1, 'b': 4}\n",
      "{'b': 4}\n",
      "{1: 2, 2: 4, 3: 6}\n"
     ]
    }
   ],
   "source": [
    "simple_dict = {\n",
    "    'a': 1,\n",
    "    'b': 2\n",
    "}\n",
    "\n",
    "my_dict = {key: value ** 2 for key, value in simple_dict.items()}\n",
    "print(my_dict)\n",
    "\n",
    "my_dict2 = {key: value ** 2 for key, value in simple_dict.items() if value % 2 == 0}\n",
    "print(my_dict2)\n",
    "\n",
    "my_dict3 = {num: num*2 for num in [1, 2, 3]}\n",
    "print(my_dict3)"
   ]
  },
  {
   "cell_type": "code",
   "execution_count": 23,
   "metadata": {},
   "outputs": [
    {
     "name": "stdout",
     "output_type": "stream",
     "text": [
      "['n', 'b']\n"
     ]
    }
   ],
   "source": [
    "some_list = ['a', 'b', 'c', 'b', 'd', 'm', 'n', 'n']\n",
    "\n",
    "my_dict = list(set([item for item in some_list if some_list.count(item) > 1]))\n",
    "print(my_dict)"
   ]
  }
 ],
 "metadata": {
  "kernelspec": {
   "display_name": "Python 3",
   "language": "python",
   "name": "python3"
  },
  "language_info": {
   "codemirror_mode": {
    "name": "ipython",
    "version": 3
   },
   "file_extension": ".py",
   "mimetype": "text/x-python",
   "name": "python",
   "nbconvert_exporter": "python",
   "pygments_lexer": "ipython3",
   "version": "3.7.5"
  }
 },
 "nbformat": 4,
 "nbformat_minor": 2
}
