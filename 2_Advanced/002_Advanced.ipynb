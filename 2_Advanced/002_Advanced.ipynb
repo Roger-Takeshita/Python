{
 "cells": [
  {
   "cell_type": "markdown",
   "metadata": {},
   "source": [
    "<h1 id='advanced'>Advanced</h1>\n",
    "\n",
    "<h2 id='classes'>Classes</h2>\n",
    "\n",
    "-   Classes provide a means of bundling data and functionality together. Creating a new class creates a new type of object, allowing new instances of that type to be made. Each class instance can have attributes attached to it for maintaining its state. Class instances can also have methods (defined by its class) for modifying its state.\n",
    "-   The convention when we are creating a class is to capitalize the first letter of each word and singular.\n",
    "-   The `__init__` method (constructor) is instantiated every time we instantiate a new object of our class\n",
    "\n",
    "    -   In the constructor we could also create validations before creating the object, we could give default values"
   ]
  },
  {
   "cell_type": "code",
   "execution_count": 9,
   "metadata": {},
   "outputs": [
    {
     "name": "stdout",
     "output_type": "stream",
     "text": [
      "My name is Tom\n",
      "None\n"
     ]
    }
   ],
   "source": [
    "class PlayerCharacter:\n",
    "    membership = True\n",
    "\n",
    "    #! constructor\n",
    "    def __init__(self, name, age):\n",
    "        if (age > 18):\n",
    "            self.name = name  # attribute the constructor\n",
    "            self.age = age\n",
    "\n",
    "    #! method\n",
    "    def shout(self):\n",
    "        print(f'My name is {self.name}')\n",
    "\n",
    "player1 = PlayerCharacter('Tom', 19)\n",
    "print(player1.shout())"
   ]
  },
  {
   "cell_type": "markdown",
   "metadata": {},
   "source": [
    "<h3 id='attributesandmethods'>Attributes and Methods</h3>"
   ]
  },
  {
   "cell_type": "code",
   "execution_count": 8,
   "metadata": {},
   "outputs": [
    {
     "name": "stdout",
     "output_type": "stream",
     "text": [
      "My name is Roger\n",
      "None\n",
      "My name is Thaisa\n",
      "None\n",
      "My name is Yumi\n",
      "None\n"
     ]
    }
   ],
   "source": [
    "class PlayerCharacter:\n",
    "    #! attribute\n",
    "    membership = True\n",
    "\n",
    "    #! constructor\n",
    "    def __init__(self, name, age):\n",
    "        # if (self.membership): #+ we could also access like this\n",
    "        if (PlayerCharacter.membership):\n",
    "            self.name = name  # attribute the constructor\n",
    "            self.age = age\n",
    "\n",
    "    #! method\n",
    "    def shout(self):\n",
    "        print(f'My name is {self.name}')\n",
    "\n",
    "player1 = PlayerCharacter('Roger', 33)\n",
    "player2 = PlayerCharacter('Thaisa', 32)\n",
    "player3 = PlayerCharacter('Yumi', 3)\n",
    "print(player1.shout())\n",
    "print(player2.shout())\n",
    "print(player3.shout())"
   ]
  },
  {
   "cell_type": "markdown",
   "metadata": {},
   "source": [
    "<h3 id='overridingmethods'>Overriding Methods</h3>\n",
    "\n",
    "-   We can change this behavior by overriding the `__str__` method that the print function calls automatically to obtain the string to print out."
   ]
  },
  {
   "cell_type": "code",
   "execution_count": 16,
   "metadata": {},
   "outputs": [
    {
     "name": "stdout",
     "output_type": "stream",
     "text": [
      "My custom print, player: Roger\n"
     ]
    }
   ],
   "source": [
    "class PlayerCharacter:\n",
    "    membership = True\n",
    "\n",
    "    def __init__(self, name, age):\n",
    "        self.name = name\n",
    "        self.age = age\n",
    "\n",
    "    def __str__(self):\n",
    "        return f'My custom print, player: {self.name}'\n",
    "\n",
    "    def shout(self):\n",
    "        print(f'My name is {self.name}')\n",
    "\n",
    "player1 = PlayerCharacter('Roger', 33)\n",
    "print(player1)"
   ]
  },
  {
   "cell_type": "markdown",
   "metadata": {},
   "source": [
    "<h3 id='classmethodsandstaticmethods'>@classmethod and @staticmethod</h3>\n",
    "\n",
    "<h4 id='classmethods'>@classmethod</h4>\n",
    "\n",
    "-   **@classmethod** is decorator that we add before defining the class method\n",
    "-   with **@classmethod** we could instantiate a new object without the need to instantiate the class\n",
    "-   The naming convention of the first parameter is to use `cls` instead of `self`\n",
    "-   the first parameter is always `cls`, `cls` stands for **class**"
   ]
  },
  {
   "cell_type": "code",
   "execution_count": 10,
   "metadata": {},
   "outputs": [
    {
     "name": "stdout",
     "output_type": "stream",
     "text": [
      "Tom\n",
      "21\n"
     ]
    }
   ],
   "source": [
    "class PlayerCharacter:\n",
    "    membership = True\n",
    "\n",
    "    #! constructor\n",
    "    def __init__(self, name, age):\n",
    "        if (age > 18):\n",
    "            self.name = name  # attribute the constructor\n",
    "            self.age = age\n",
    "\n",
    "    #! method\n",
    "    def shout(self):\n",
    "        print(f'My name is {self.name}')\n",
    "\n",
    "    #! decorator\n",
    "    #+ class method\n",
    "    @classmethod\n",
    "    def adding_new_member(cls, num1, num2):\n",
    "        return cls('Tom', num1+num2)\n",
    "\n",
    "player3 = PlayerCharacter.adding_new_member(10, 11)\n",
    "print(player3.name)\n",
    "print(player3.age)"
   ]
  },
  {
   "cell_type": "markdown",
   "metadata": {},
   "source": [
    "<h4 id='staticmethod'>@staticmethod</h4>\n",
    "\n",
    "-   **@staticmethod** works the same way as **@classmethod** the only difference is that we don't need to define the `cls` as first parameter because **@staticmethod** doesn't have access to the class properties.\n",
    "-   We just want to perform a certain method"
   ]
  },
  {
   "cell_type": "code",
   "execution_count": 12,
   "metadata": {},
   "outputs": [
    {
     "name": "stdout",
     "output_type": "stream",
     "text": [
      "2\n"
     ]
    }
   ],
   "source": [
    "class PlayerCharacter:\n",
    "    membership = True\n",
    "\n",
    "    #! constructor\n",
    "    def __init__(self, name, age):\n",
    "        if (age > 18):\n",
    "            self.name = name  # attribute the constructor\n",
    "            self.age = age\n",
    "\n",
    "    #! method\n",
    "    def shout(self):\n",
    "        print(f'My name is {self.name}')\n",
    "\n",
    "    #! decorator\n",
    "    #+ class method\n",
    "    @classmethod\n",
    "    def adding_new_member(cls, num1, num2):\n",
    "        return cls('Tom', num1 + num2)\n",
    "        \n",
    "    #+ static method\n",
    "    @staticmethod\n",
    "    def sum_number(num1, num2):\n",
    "        return num1 + num2\n",
    "\n",
    "print(PlayerCharacter.sum_number(1, 1))"
   ]
  },
  {
   "cell_type": "markdown",
   "metadata": {},
   "source": [
    "<h3 id='privateandpublic'>Private and Public Variables</h3>\n",
    "\n",
    "-   Python doesn't have **public** and **private** variables that will prevent the user from changing the property of our class, but it's a convention to add `_` (single underscore) before the the variable that you want to indicate that is a private variable"
   ]
  },
  {
   "cell_type": "code",
   "execution_count": 14,
   "metadata": {},
   "outputs": [
    {
     "name": "stdout",
     "output_type": "stream",
     "text": [
      "My name is Roger, and I am 33 years old\n",
      "Thaisa\n",
      "This is a string now\n",
      "I can do whatever I want\n"
     ]
    }
   ],
   "source": [
    "class PlayerCharacter:\n",
    "    def __init__(self, name, age):\n",
    "        self._name = name\n",
    "        self._age = age\n",
    "\n",
    "    def run(self):\n",
    "        print('run')\n",
    "\n",
    "    def speak(self):\n",
    "        print(f'My name is {self._name}, and I am {self._age} years old')\n",
    "\n",
    "player1 = PlayerCharacter('Roger', 33)\n",
    "player1.speak()\n",
    "\n",
    "player2 = PlayerCharacter('Thaisa', 32)\n",
    "player2._age = 'This is a string now'\n",
    "player2.speak = 'I can do whatever I want'\n",
    "print(player2._name)\n",
    "print(player2._age)\n",
    "print(player2.speak)"
   ]
  },
  {
   "cell_type": "markdown",
   "metadata": {},
   "source": [
    "<h3 id='inheritance'>Inheritance</h3>"
   ]
  },
  {
   "cell_type": "code",
   "execution_count": 17,
   "metadata": {},
   "outputs": [
    {
     "name": "stdout",
     "output_type": "stream",
     "text": [
      "logged in\n",
      "logged in\n",
      "attacking with power of 100\n",
      "attacking with arrows: arrows left - 10\n"
     ]
    }
   ],
   "source": [
    "class User:\n",
    "      def sign_in(self):\n",
    "          print('logged in')\n",
    "\n",
    "class Wizard(User):\n",
    "      def __init__(self, name, power):\n",
    "          self.name = name\n",
    "          self.power = power\n",
    "\n",
    "      def attack(self):\n",
    "          print(f'attacking with power of {self.power}')\n",
    "\n",
    "class Archer(User):\n",
    "      def __init__(self, name, num_arrows):\n",
    "          self.name = name\n",
    "          self.num_arrows = num_arrows\n",
    "\n",
    "      def attack(self):\n",
    "          print(f'attacking with arrows: arrows left - {self.num_arrows}')\n",
    "\n",
    "wizard1 = Wizard('Roger', 100)\n",
    "wizard2 = Archer('Robin', 10)\n",
    "wizard1.sign_in()\n",
    "wizard2.sign_in()\n",
    "wizard1.attack()\n",
    "wizard2.attack()"
   ]
  },
  {
   "cell_type": "markdown",
   "metadata": {},
   "source": [
    "<h3 id='isinstance'>isinstance()</h3>\n",
    "\n",
    "-   It's a builtin function in Python that checks if it's an instance of a class."
   ]
  },
  {
   "cell_type": "code",
   "execution_count": 20,
   "metadata": {},
   "outputs": [
    {
     "name": "stdout",
     "output_type": "stream",
     "text": [
      "True\n"
     ]
    }
   ],
   "source": [
    "class User:\n",
    "      def sign_in(self):\n",
    "          print('logged in')\n",
    "\n",
    "class Wizard(User):\n",
    "      def __init__(self, name, power):\n",
    "          self.name = name\n",
    "          self.power = power\n",
    "\n",
    "      def attack(self):\n",
    "          print(f'attacking with power of {self.power}')\n",
    "\n",
    "class Archer(User):\n",
    "      def __init__(self, name, num_arrows):\n",
    "          self.name = name\n",
    "          self.num_arrows = num_arrows\n",
    "\n",
    "      def attack(self):\n",
    "          print(f'attacking with arrows: arrows left - {self.num_arrows}')\n",
    "\n",
    "wizard1 = Wizard('Roger', 100)\n",
    "print(isinstance(wizard1, Wizard))"
   ]
  },
  {
   "cell_type": "markdown",
   "metadata": {},
   "source": [
    "<h3 id='super'>super()</h3>\n",
    "\n",
    "-   The `super()` function in Python makes class inheritance more manageable and extensible. The function returns a temporary object that allows reference to a parent class by the keyword super.\n",
    "-   The `super()` function has two major use cases:\n",
    "    -   To avoid the usage of the super (parent) class explicitly.\n",
    "    -   To enable multiple inheritances​."
   ]
  },
  {
   "cell_type": "code",
   "execution_count": 21,
   "metadata": {},
   "outputs": [
    {
     "name": "stdout",
     "output_type": "stream",
     "text": [
      "The mobile is: Apple\n",
      "The RAM is: 2\n",
      "The storage is: 64\n",
      "The model is: iPhone X\n"
     ]
    }
   ],
   "source": [
    "class Computer():\n",
    "      def __init__(self, computer, ram, storage):\n",
    "          self.computer = computer\n",
    "          self.ram = ram\n",
    "          self.storage = storage\n",
    "\n",
    "class Mobile(Computer):\n",
    "      def __init__(self, computer, ram, storage, model):\n",
    "          super().__init__(computer, ram, storage)\n",
    "          self.model = model\n",
    "\n",
    "Apple = Mobile('Apple', 2, 64, 'iPhone X')\n",
    "print('The mobile is:', Apple.computer)\n",
    "print('The RAM is:', Apple.ram)\n",
    "print('The storage is:', Apple.storage)\n",
    "print('The model is:', Apple.model)"
   ]
  }
 ],
 "metadata": {
  "kernelspec": {
   "display_name": "Python 3",
   "language": "python",
   "name": "python3"
  },
  "language_info": {
   "codemirror_mode": {
    "name": "ipython",
    "version": 3
   },
   "file_extension": ".py",
   "mimetype": "text/x-python",
   "name": "python",
   "nbconvert_exporter": "python",
   "pygments_lexer": "ipython3",
   "version": "3.7.5"
  }
 },
 "nbformat": 4,
 "nbformat_minor": 2
}
