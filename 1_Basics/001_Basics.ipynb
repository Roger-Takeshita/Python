{
 "cells": [
  {
   "cell_type": "markdown",
   "metadata": {},
   "source": [
    "<h1 id='basics'>Basics</h1>\n",
    "\n",
    "<h2 id='datatypes'>Data Types</h2>\n",
    "\n",
    "-   In **Python** we have the following data types:\n",
    "    -   int\n",
    "    -   float\n",
    "    -   bool\n",
    "    -   str\n",
    "    -   list\n",
    "    -   tuple\n",
    "    -   set\n",
    "    -   dict\n",
    "    -   complex (imaginary numbers)\n",
    "\n",
    "<h3 id='binary'>Binary Representation</h3>"
   ]
  },
  {
   "cell_type": "code",
   "execution_count": 1,
   "metadata": {},
   "outputs": [
    {
     "data": {
      "text/plain": [
       "'0b101'"
      ]
     },
     "execution_count": 1,
     "metadata": {},
     "output_type": "execute_result"
    }
   ],
   "source": [
    "bin(5)"
   ]
  },
  {
   "cell_type": "markdown",
   "metadata": {},
   "source": [
    "-   Gives us the binary representation of `5`, that is `0b101` -> `0b` represents in python the this is a `binary number` the actual binary is number is `101`\n",
    "\n",
    "-   to convert a `binary number` into an `integer` we can use the `int()` with the base of `2`"
   ]
  },
  {
   "cell_type": "code",
   "execution_count": 2,
   "metadata": {},
   "outputs": [
    {
     "data": {
      "text/plain": [
       "5"
      ]
     },
     "execution_count": 2,
     "metadata": {},
     "output_type": "execute_result"
    }
   ],
   "source": [
    "int('0b101', 2)"
   ]
  },
  {
   "cell_type": "markdown",
   "metadata": {},
   "source": [
    "<h3 id='strings'>Strings</h3>\n",
    "\n",
    "<h4 id='printmultistring'>Print Multiple Lines</h4>\n",
    "\n",
    "-   Use `'''` to print multiple lines\n"
   ]
  },
  {
   "cell_type": "code",
   "execution_count": 3,
   "metadata": {},
   "outputs": [
    {
     "name": "stdout",
     "output_type": "stream",
     "text": [
      "\n",
      "      print\n",
      "      multiple\n",
      "      lines\n",
      "      \n"
     ]
    }
   ],
   "source": [
    "multiple_lines = '''\n",
    "      print\n",
    "      multiple\n",
    "      lines\n",
    "      '''\n",
    "print(multiple_lines)"
   ]
  },
  {
   "cell_type": "markdown",
   "metadata": {},
   "source": [
    "<h4 id='escape'>Escape Sequence</h4>\n",
    "\n",
    "-   To escape a special character we use `\\` before the character\n",
    "    -   `\\t` - Tab\n",
    "    -   `\\n` - New Line\n",
    "    -   `\\\\` - Backslash\n",
    "    -   `\\r` - Carriage Return\n",
    "    -   `\\b` - Backspace\n",
    "    -   `\\f` - Form Feed\n",
    "    -   `\\ooo` - Octal value\n",
    "    -   `\\xhh` - Hex value"
   ]
  },
  {
   "cell_type": "code",
   "execution_count": 4,
   "metadata": {},
   "outputs": [
    {
     "name": "stdout",
     "output_type": "stream",
     "text": [
      "It's \"kind of\" sunny\n"
     ]
    }
   ],
   "source": [
    "weather = \"It\\'s \\\"kind of\\\" sunny\"\n",
    "print(weather)"
   ]
  },
  {
   "cell_type": "markdown",
   "metadata": {},
   "source": [
    "<h4 id='stringinter'>String Interpolation</h4>\n",
    "\n",
    "-   Using **Python 3** format"
   ]
  },
  {
   "cell_type": "code",
   "execution_count": 5,
   "metadata": {},
   "outputs": [
    {
     "name": "stdout",
     "output_type": "stream",
     "text": [
      "Hi Roger. You are 33 years old\n"
     ]
    }
   ],
   "source": [
    "name = 'Roger'\n",
    "age = 33\n",
    "\n",
    "print(f'Hi {name}. You are {age} years old')"
   ]
  },
  {
   "cell_type": "markdown",
   "metadata": {},
   "source": [
    "-   Using **Python 2** format\n",
    "\n",
    "    -   **ATTENTION** the `.format()` is right after the string. The `.format()` will evaluate the `string`"
   ]
  },
  {
   "cell_type": "code",
   "execution_count": 6,
   "metadata": {},
   "outputs": [
    {
     "name": "stdout",
     "output_type": "stream",
     "text": [
      "Hi Roger. You are 33 years old\n"
     ]
    }
   ],
   "source": [
    "name = 'Roger'\n",
    "age = 33\n",
    "\n",
    "print('Hi {0}. You are {1} years old'.format(name, age))"
   ]
  },
  {
   "cell_type": "markdown",
   "metadata": {},
   "source": [
    "-   Using `custom variables`\n",
    "\n",
    "    -   Using custom variables we have to call them between `{}`"
   ]
  },
  {
   "cell_type": "code",
   "execution_count": 7,
   "metadata": {},
   "outputs": [
    {
     "name": "stdout",
     "output_type": "stream",
     "text": [
      "Hi Yumi. You are 3 years old\n"
     ]
    }
   ],
   "source": [
    "print('Hi {new_name}. You are {new_age} years old'.format(new_name=\"Yumi\", new_age=3))"
   ]
  },
  {
   "cell_type": "markdown",
   "metadata": {},
   "source": [
    "<h4 id='stringindexes'>String Indexes</h4>\n",
    "\n",
    "-   To work with string we have `[start:stop:stepover]`\n",
    "\n",
    "    -   the `start` starts at index `0`\n",
    "    -   `stepover`, by default the step over is `1` but we can choose any number of our choice"
   ]
  },
  {
   "cell_type": "code",
   "execution_count": 8,
   "metadata": {},
   "outputs": [
    {
     "name": "stdout",
     "output_type": "stream",
     "text": [
      "123456\n",
      "012\n",
      "0123456\n",
      "6\n",
      "6543210\n"
     ]
    }
   ],
   "source": [
    "numbers = '0123456'\n",
    "print(numbers[1:])\n",
    "print(numbers[:3])\n",
    "print(numbers[::1])\n",
    "print(numbers[-1])\n",
    "print(numbers[::-1])"
   ]
  },
  {
   "cell_type": "markdown",
   "metadata": {},
   "source": [
    "<h4 id='immutability'>Immutability</h4>\n",
    "\n",
    "-   String are immutable, this means that once we assign a value to a string we cannot change the content (different from JavaScript), the only way to change the string content is to re-assign a complete new value to the variable\n",
    "\n",
    "<h3 id='bultinfunctions'>Built-in Functions</h3>\n",
    "\n",
    "|               |             | Built-in Functions |              |                |\n",
    "| ------------- | ----------- | ------------------ | ------------ | -------------- |\n",
    "| abs()         | delattr()   | hash()             | memoryview() | set()          |\n",
    "| all()         | dict()      | help()             | min()        | setattr()      |\n",
    "| any()         | dir()       | hex()              | next()       | slice()        |\n",
    "| ascii()       | divmod()    | id()               | object()     | sorted()       |\n",
    "| bin()         | enumerate() | input()            | oct()        | staticmethod() |\n",
    "| bool()        | eval()      | int()              | open()       | str()          |\n",
    "| breakpoint()  | exec()      | isinstance()       | ord()        | sum()          |\n",
    "| bytearray()   | filter()    | issubclass()       | pow()        | super()        |\n",
    "| bytes()       | float()     | iter()             | print()      | tuple()        |\n",
    "| callable()    | format()    | len()              | property()   | type()         |\n",
    "| chr()         | frozenset() | list()             | range()      | vars()         |\n",
    "| classmethod() | getattr()   | locals()           | repr()       | zip()          |\n",
    "| compile()     | globals()   | map()              | reversed()   | **import**()   |\n",
    "| complex()     | hasattr()   | max()              | round()      |                |\n",
    "\n",
    "<h2 id='lists'>Lists</h2>\n",
    "\n",
    "-   **Lists** are like **Arrays** in other languages, it's an ordered list\n",
    "\n",
    "<h3 id='listslicing'>List Slicing</h3>\n",
    "\n",
    "-   With **list slicing** we **create a new list**\n",
    "\n",
    "    -   One way to create a new list with all the values from the previous list is by adding `[:]`"
   ]
  },
  {
   "cell_type": "code",
   "execution_count": 9,
   "metadata": {},
   "outputs": [
    {
     "name": "stdout",
     "output_type": "stream",
     "text": [
      "['notebook', 'sunglass', 'toys', 'grapes']\n",
      "['notebook', 'sunglass', 'toys', 'grapes']\n"
     ]
    }
   ],
   "source": [
    "amazon_cart = [\n",
    "'notebook',\n",
    "'sunglass',\n",
    "'toys',\n",
    "'grapes'\n",
    "]\n",
    "\n",
    "new_list = amazon_cart[:]\n",
    "print(new_list)\n",
    "\n",
    "# another option is to use .copy();\n",
    "new_list2 = amazon_cart.copy();\n",
    "print(new_list2)"
   ]
  },
  {
   "cell_type": "markdown",
   "metadata": {},
   "source": []
  },
  {
   "cell_type": "markdown",
   "metadata": {},
   "source": [
    "-   the `.append()` method changes the list in place, it doesn't return a new new copy of the list modified."
   ]
  },
  {
   "cell_type": "code",
   "execution_count": 10,
   "metadata": {},
   "outputs": [
    {
     "name": "stdout",
     "output_type": "stream",
     "text": [
      "[1, 2, 3, 4, 5, 100]\n",
      "None\n"
     ]
    }
   ],
   "source": [
    "basket = [1, 2, 3, 4, 5]\n",
    "\n",
    "new_list = basket.append(100)\n",
    "print(basket)\n",
    "print(new_list)"
   ]
  },
  {
   "cell_type": "markdown",
   "metadata": {},
   "source": [
    "-   the `.insert()` method inserts a new item base on the index.\n",
    "\n",
    "    -   Just like `.append()`, `.insert()` modifies the list in place (it doesn't return anything)"
   ]
  },
  {
   "cell_type": "code",
   "execution_count": 11,
   "metadata": {},
   "outputs": [
    {
     "name": "stdout",
     "output_type": "stream",
     "text": [
      "[1, 2, 3, 100, 4, 5]\n"
     ]
    }
   ],
   "source": [
    "basket = [1, 2, 3, 4, 5]\n",
    "\n",
    "basket.insert(3, 100)\n",
    "print(basket)"
   ]
  },
  {
   "cell_type": "markdown",
   "metadata": {},
   "source": [
    "-   the `.extend()` method extends the list, in other words, it concatenates two objects (lists)\n",
    "\n",
    "    -   `.extend()` modifies the list in place"
   ]
  },
  {
   "cell_type": "code",
   "execution_count": 12,
   "metadata": {},
   "outputs": [
    {
     "name": "stdout",
     "output_type": "stream",
     "text": [
      "[1, 2, 3, 4, 5, 100, 101]\n"
     ]
    }
   ],
   "source": [
    "basket = [1, 2, 3, 4, 5]\n",
    "\n",
    "basket.extend([100, 101])\n",
    "print(basket)"
   ]
  },
  {
   "cell_type": "markdown",
   "metadata": {},
   "source": [
    "-   the `.pop()` method removes the **index** from the list and return the removed item"
   ]
  },
  {
   "cell_type": "code",
   "execution_count": 13,
   "metadata": {},
   "outputs": [
    {
     "name": "stdout",
     "output_type": "stream",
     "text": [
      "4\n"
     ]
    }
   ],
   "source": [
    "basket = [1, 2, 3, 4, 5]\n",
    "\n",
    "removed_item = basket.pop(3)\n",
    "print(removed_item)"
   ]
  },
  {
   "cell_type": "markdown",
   "metadata": {},
   "source": [
    "-   the `.remove()` method removes the **value** of the list, but doesn't return anything"
   ]
  },
  {
   "cell_type": "code",
   "execution_count": 14,
   "metadata": {},
   "outputs": [
    {
     "name": "stdout",
     "output_type": "stream",
     "text": [
      "[1, 2, 4, 5]\n"
     ]
    }
   ],
   "source": [
    "basket = [1, 2, 3, 4, 5]\n",
    "\n",
    "basket.remove(3)\n",
    "print(basket)"
   ]
  },
  {
   "cell_type": "markdown",
   "metadata": {},
   "source": [
    "-   the `.clear()` method removes everything in place from the list."
   ]
  },
  {
   "cell_type": "code",
   "execution_count": 15,
   "metadata": {},
   "outputs": [
    {
     "name": "stdout",
     "output_type": "stream",
     "text": [
      "[]\n"
     ]
    }
   ],
   "source": [
    "basket = [1, 2, 3, 4, 5]\n",
    "\n",
    "basket.clear()\n",
    "print(basket)"
   ]
  },
  {
   "cell_type": "markdown",
   "metadata": {},
   "source": [
    "-   the `.index()` method, return the index of the item that we are search on the list"
   ]
  },
  {
   "cell_type": "code",
   "execution_count": 16,
   "metadata": {},
   "outputs": [
    {
     "name": "stdout",
     "output_type": "stream",
     "text": [
      "1\n"
     ]
    }
   ],
   "source": [
    "basket = [1, 2, 3, 4, 5]\n",
    "\n",
    "print(basket.index(2))"
   ]
  },
  {
   "cell_type": "markdown",
   "metadata": {},
   "source": [
    "-   We can also give a start and stop point to search for the item\n",
    "    -   `.index(value, start, stop)`"
   ]
  },
  {
   "cell_type": "markdown",
   "metadata": {},
   "source": [
    "-   the `'value' in object/list`, we can check True/False if the item exists in the list"
   ]
  },
  {
   "cell_type": "code",
   "execution_count": 17,
   "metadata": {},
   "outputs": [
    {
     "name": "stdout",
     "output_type": "stream",
     "text": [
      "True\n",
      "False\n"
     ]
    }
   ],
   "source": [
    "basket = ['a', 'b', 'c', 'd', 'e']\n",
    "\n",
    "print('a' in basket)\n",
    "print('f' in basket)"
   ]
  },
  {
   "cell_type": "markdown",
   "metadata": {},
   "source": [
    "-   the `.count()` method counts how many time the item occurs"
   ]
  },
  {
   "cell_type": "code",
   "execution_count": 18,
   "metadata": {},
   "outputs": [
    {
     "name": "stdout",
     "output_type": "stream",
     "text": [
      "2\n"
     ]
    }
   ],
   "source": [
    "basket = ['a', 'b', 'c', 'd', 'e' , 'd']\n",
    "\n",
    "print(basket.count('d'))"
   ]
  },
  {
   "cell_type": "markdown",
   "metadata": {},
   "source": [
    "-   the `.sort()` method sorts the list in place"
   ]
  },
  {
   "cell_type": "code",
   "execution_count": 19,
   "metadata": {},
   "outputs": [
    {
     "name": "stdout",
     "output_type": "stream",
     "text": [
      "['a', 'b', 'c', 'd', 'd', 'e']\n"
     ]
    }
   ],
   "source": [
    "basket = ['a', 'b', 'c', 'd', 'e' , 'd']\n",
    "\n",
    "basket.sort()\n",
    "print(basket)"
   ]
  },
  {
   "cell_type": "markdown",
   "metadata": {},
   "source": [
    "-   the `sorted()` function do the same thing as `.sort()` but it creates a new sorted array"
   ]
  },
  {
   "cell_type": "code",
   "execution_count": 20,
   "metadata": {},
   "outputs": [
    {
     "name": "stdout",
     "output_type": "stream",
     "text": [
      "['a', 'b', 'c', 'd', 'd', 'e']\n",
      "['a', 'b', 'c', 'd', 'e', 'd']\n"
     ]
    }
   ],
   "source": [
    "basket = ['a', 'b', 'c', 'd', 'e' , 'd']\n",
    "\n",
    "print(sorted(basket))\n",
    "print(basket)"
   ]
  },
  {
   "cell_type": "markdown",
   "metadata": {},
   "source": [
    "-   the `.reverse()` method reverts the list in place"
   ]
  },
  {
   "cell_type": "code",
   "execution_count": 21,
   "metadata": {},
   "outputs": [
    {
     "name": "stdout",
     "output_type": "stream",
     "text": [
      "['d', 'e', 'd', 'c', 'b', 'a']\n"
     ]
    }
   ],
   "source": [
    "basket = ['a', 'b', 'c', 'd', 'e' , 'd']\n",
    "\n",
    "basket.reverse()\n",
    "print(basket)"
   ]
  },
  {
   "cell_type": "markdown",
   "metadata": {},
   "source": [
    "-   create a list using `range()`"
   ]
  },
  {
   "cell_type": "code",
   "execution_count": 22,
   "metadata": {},
   "outputs": [
    {
     "name": "stdout",
     "output_type": "stream",
     "text": [
      "[1, 2, 3, 4, 5, 6, 7, 8, 9, 10, 11, 12, 13, 14, 15, 16, 17, 18, 19, 20, 21, 22, 23, 24, 25, 26, 27, 28, 29, 30, 31, 32, 33, 34, 35, 36, 37, 38, 39, 40, 41, 42, 43, 44, 45, 46, 47, 48, 49, 50, 51, 52, 53, 54, 55, 56, 57, 58, 59, 60, 61, 62, 63, 64, 65, 66, 67, 68, 69, 70, 71, 72, 73, 74, 75, 76, 77, 78, 79, 80, 81, 82, 83, 84, 85, 86, 87, 88, 89, 90, 91, 92, 93, 94, 95, 96, 97, 98, 99]\n"
     ]
    }
   ],
   "source": [
    "new_list = list(range(1, 100));\n",
    "print(new_list)"
   ]
  },
  {
   "cell_type": "markdown",
   "metadata": {},
   "source": [
    "-   the `.join()` method iterates through the list and add join with the left part (sentence in this case)"
   ]
  },
  {
   "cell_type": "code",
   "execution_count": 23,
   "metadata": {},
   "outputs": [
    {
     "name": "stdout",
     "output_type": "stream",
     "text": [
      "hi my name is roger\n",
      "hi my name is roger\n"
     ]
    }
   ],
   "source": [
    "sentence = ' '\n",
    "new_sentence = sentence.join(['hi', 'my', 'name', 'is', 'roger'])\n",
    "\n",
    "print(new_sentence)\n",
    "\n",
    "# alternative\n",
    "new_sentence = ' '.join(['hi', 'my', 'name', 'is', 'roger'])\n",
    "\n",
    "print(new_sentence)"
   ]
  },
  {
   "cell_type": "markdown",
   "metadata": {},
   "source": [
    "<h3 id='listunpacking'>List Unpacking</h3>\n",
    "\n",
    "-   We can assign variables to each item of the list"
   ]
  },
  {
   "cell_type": "code",
   "execution_count": 24,
   "metadata": {},
   "outputs": [
    {
     "name": "stdout",
     "output_type": "stream",
     "text": [
      "1\n",
      "2\n",
      "3\n",
      "[4, 5, 6, 7, 8]\n",
      "9\n"
     ]
    }
   ],
   "source": [
    "a, b, c, *other, last_item = [1, 2, 3, 4, 5, 6, 7, 8, 9]\n",
    "\n",
    "print(a)\n",
    "print(b)\n",
    "print(c)\n",
    "print(other)\n",
    "print(last_item)"
   ]
  },
  {
   "cell_type": "markdown",
   "metadata": {},
   "source": [
    "<h2 id='dictionary'>Dictionary</h2>\n",
    "\n",
    "-   **Dictionary** is equal to an **object** in `JavaScript`, it's un-ordered key/value pairs"
   ]
  },
  {
   "cell_type": "code",
   "execution_count": 25,
   "metadata": {},
   "outputs": [
    {
     "name": "stdout",
     "output_type": "stream",
     "text": [
      "1\n"
     ]
    }
   ],
   "source": [
    "dictionary = {\n",
    "    'a': 1,\n",
    "    'b': 2\n",
    "}\n",
    "\n",
    "print(dictionary['a'])"
   ]
  },
  {
   "cell_type": "markdown",
   "metadata": {},
   "source": [
    "-   the `.get()` method accepts the first argument is the `key` that we are looking for, if not found we can assign a default value (second argument)."
   ]
  },
  {
   "cell_type": "code",
   "execution_count": 26,
   "metadata": {},
   "outputs": [
    {
     "name": "stdout",
     "output_type": "stream",
     "text": [
      "55\n",
      "55\n"
     ]
    }
   ],
   "source": [
    "user = {\n",
    "      'basket': [1, 2, 3],\n",
    "      'greet': 'hello',\n",
    "}\n",
    "\n",
    "print(user.get('age',55))\n",
    "\n",
    "user2 = {\n",
    "      'basket': [1, 2, 3],\n",
    "      'greet': 'hello',\n",
    "      'age' : 20\n",
    "}\n",
    "\n",
    "print(user.get('age',55))"
   ]
  },
  {
   "cell_type": "markdown",
   "metadata": {},
   "source": [
    "-   `<value> in dict.key()`, loops through the dictionary and checks if the **key** exists"
   ]
  },
  {
   "cell_type": "code",
   "execution_count": 27,
   "metadata": {},
   "outputs": [
    {
     "name": "stdout",
     "output_type": "stream",
     "text": [
      "False\n",
      "True\n"
     ]
    }
   ],
   "source": [
    "user = {\n",
    "      'basket': [1, 2, 3],\n",
    "      'greet': 'hello',\n",
    "      'age': 20\n",
    "}\n",
    "\n",
    "print('hello' in user.keys())\n",
    "print('greet' in user.keys())"
   ]
  },
  {
   "cell_type": "markdown",
   "metadata": {},
   "source": [
    "-   `<value> in dict.value()`, loops through the dictionary and checks if the **value** exists"
   ]
  },
  {
   "cell_type": "code",
   "execution_count": 28,
   "metadata": {},
   "outputs": [
    {
     "name": "stdout",
     "output_type": "stream",
     "text": [
      "True\n"
     ]
    }
   ],
   "source": [
    "user = {\n",
    "      'basket': [1, 2, 3],\n",
    "      'greet': 'hello',\n",
    "      'age': 20\n",
    "}\n",
    "\n",
    "print('hello' in user.values())"
   ]
  },
  {
   "cell_type": "markdown",
   "metadata": {},
   "source": [
    "-   `dict.items()`, returns an array of **tuples** where the fist position (`[0]`) is the **key** and the second position (`[1]`) is the **value** (the value could be anything, number, string, object...)"
   ]
  },
  {
   "cell_type": "code",
   "execution_count": 29,
   "metadata": {},
   "outputs": [
    {
     "name": "stdout",
     "output_type": "stream",
     "text": [
      "dict_items([('basket', [1, 2, 3]), ('greet', 'hello'), ('age', 20)])\n"
     ]
    }
   ],
   "source": [
    "user = {\n",
    "      'basket': [1, 2, 3],\n",
    "      'greet': 'hello',\n",
    "      'age': 20\n",
    "}\n",
    "\n",
    "print(user.items())"
   ]
  },
  {
   "cell_type": "markdown",
   "metadata": {},
   "source": [
    "-   `.clear()`, clear the object in place, it removes all the items of the object. In the end we have and **empty** object\n",
    "\n",
    "-   `.copy()` creates a brand new copy of the object (not referencing the pointer, it creates a new object)\n",
    "\n",
    "-   `.pop()` removes the target item and returns the removed item.\n",
    "\n",
    "-   `.update()` updates an existing item or adds if not exist"
   ]
  },
  {
   "cell_type": "code",
   "execution_count": 30,
   "metadata": {},
   "outputs": [
    {
     "name": "stdout",
     "output_type": "stream",
     "text": [
      "{'basket': [1, 2, 3], 'greet': 'hello', 'age': 55}\n",
      "{'basket': [1, 2, 3], 'greet': 'hello', 'age': 55, 'ages': 100}\n"
     ]
    }
   ],
   "source": [
    "user = {\n",
    "      'basket': [1, 2, 3],\n",
    "      'greet': 'hello',\n",
    "      'age': 20\n",
    "}\n",
    "\n",
    "user.update({'age': 55})\n",
    "print(user)\n",
    "\n",
    "user.update({'ages': 100})\n",
    "print(user)"
   ]
  },
  {
   "cell_type": "markdown",
   "metadata": {},
   "source": [
    "<h2 id='tuples'>Tuples</h2>\n",
    "\n",
    "-   it's just like a list but we cannot change the content"
   ]
  },
  {
   "cell_type": "code",
   "execution_count": 31,
   "metadata": {},
   "outputs": [],
   "source": [
    "days_of_the_week = ('monday', 'tuesday', 'wednesday', 'thursday', 'friday', 'saturday', 'sunday')\n",
    "\n",
    "# days_of_the_week[0] = 'not monday'\n",
    "# print(days_of_the_week)\n",
    "# TypeError: 'tuple' object does not support item assignment"
   ]
  },
  {
   "cell_type": "code",
   "execution_count": 32,
   "metadata": {},
   "outputs": [
    {
     "name": "stdout",
     "output_type": "stream",
     "text": [
      "['cucumbers', 'potatoes', 'cheese', 'oranges', 'avocado', 'grapes', 'banana']\n"
     ]
    }
   ],
   "source": [
    "shopping_cart = ['cucumbers', 'potatoes', 'celery', 'oranges', 'avocado', 'grapes', 'banana']\n",
    "\n",
    "shopping_cart[2] = 'cheese'\n",
    "print(shopping_cart)"
   ]
  },
  {
   "cell_type": "markdown",
   "metadata": {},
   "source": [
    "-   working we tuples, we only have 2 methods available\n",
    "    -   `.count()` returns how many times the item appeared\n",
    "    -   `.index()` returns the index of the item (the first found index)\n",
    "\n",
    "<h2 id='sets'>Sets</h2>\n",
    "\n",
    "-   Removes all the duplicates from an \"`object`\""
   ]
  },
  {
   "cell_type": "code",
   "execution_count": 33,
   "metadata": {},
   "outputs": [
    {
     "name": "stdout",
     "output_type": "stream",
     "text": [
      "{1, 2, 3, 4, 5, 6}\n"
     ]
    }
   ],
   "source": [
    "unique_set = {1, 3, 5, 4, 3, 2, 6}\n",
    "\n",
    "print(unique_set)"
   ]
  },
  {
   "cell_type": "markdown",
   "metadata": {},
   "source": [
    "-   `.difference()` returns the difference (who is calling)"
   ]
  },
  {
   "cell_type": "code",
   "execution_count": 34,
   "metadata": {},
   "outputs": [
    {
     "name": "stdout",
     "output_type": "stream",
     "text": [
      "{1, 2, 3}\n"
     ]
    }
   ],
   "source": [
    "my_set = {1, 2, 3, 4, 5}\n",
    "your_set = {4, 5, 6, 7, 8, 9, 10}\n",
    "\n",
    "print(my_set.difference(your_set))"
   ]
  },
  {
   "cell_type": "markdown",
   "metadata": {},
   "source": [
    "-   `.discard()` removes an item from the set"
   ]
  },
  {
   "cell_type": "code",
   "execution_count": 35,
   "metadata": {},
   "outputs": [
    {
     "name": "stdout",
     "output_type": "stream",
     "text": [
      "{1, 2, 3, 4}\n"
     ]
    }
   ],
   "source": [
    "my_set.discard(5)\n",
    "\n",
    "print(my_set)"
   ]
  },
  {
   "cell_type": "markdown",
   "metadata": {},
   "source": [
    "-   `.difference_update()` returns the difference (who is calling) and modifies the original set"
   ]
  },
  {
   "cell_type": "code",
   "execution_count": 37,
   "metadata": {},
   "outputs": [
    {
     "name": "stdout",
     "output_type": "stream",
     "text": [
      "{1, 2, 3}\n"
     ]
    }
   ],
   "source": [
    "my_set.difference_update(your_set)\n",
    "\n",
    "print(my_set)"
   ]
  },
  {
   "cell_type": "markdown",
   "metadata": {},
   "source": [
    "-   `.intersection()` or `&` returns the intersection between two sets"
   ]
  },
  {
   "cell_type": "code",
   "execution_count": 46,
   "metadata": {},
   "outputs": [
    {
     "name": "stdout",
     "output_type": "stream",
     "text": [
      "{4, 5}\n",
      "{4, 5}\n"
     ]
    }
   ],
   "source": [
    "my_set = {1, 2, 3, 4, 5}\n",
    "your_set = {4, 5, 6, 7, 8, 9, 10}\n",
    "\n",
    "print(my_set.intersection(your_set))\n",
    "print(my_set & your_set)"
   ]
  },
  {
   "cell_type": "markdown",
   "metadata": {},
   "source": [
    "- `.isdisjoint()` returns `true/false` where `true` means that the two sets don't have items in common"
   ]
  },
  {
   "cell_type": "code",
   "execution_count": 43,
   "metadata": {},
   "outputs": [
    {
     "name": "stdout",
     "output_type": "stream",
     "text": [
      "False\n",
      "True\n"
     ]
    }
   ],
   "source": [
    "print(my_set.isdisjoint(your_set))\n",
    "\n",
    "my_set2 = {1, 2, 3, 4, 5}\n",
    "your_set2 = {6, 7, 8, 9, 10}\n",
    "\n",
    "print(my_set2.isdisjoint(your_set2))"
   ]
  },
  {
   "cell_type": "markdown",
   "metadata": {},
   "source": [
    "-   `.union()` or `|` concatenate two sets and remove duplicates"
   ]
  },
  {
   "cell_type": "code",
   "execution_count": 47,
   "metadata": {},
   "outputs": [
    {
     "name": "stdout",
     "output_type": "stream",
     "text": [
      "{1, 2, 3, 4, 5, 6, 7, 8, 9, 10}\n"
     ]
    }
   ],
   "source": [
    "print(my_set.union(your_set))"
   ]
  },
  {
   "cell_type": "markdown",
   "metadata": {},
   "source": [
    "-   `.issubset()` checks if the left part (who is calling) is a **subset** of the other set, returns `true/false`"
   ]
  },
  {
   "cell_type": "code",
   "execution_count": 45,
   "metadata": {},
   "outputs": [
    {
     "name": "stdout",
     "output_type": "stream",
     "text": [
      "True\n"
     ]
    }
   ],
   "source": [
    "my_set3 = {4, 5}\n",
    "your_set3 = {4, 5, 6, 7, 8, 9, 10}\n",
    "\n",
    "print(my_set3.issubset(your_set3))"
   ]
  },
  {
   "cell_type": "markdown",
   "metadata": {},
   "source": [
    "-   `.issuperset()` checks if the left part (who is calling) is a **superset** of the other set, returns `true/false`"
   ]
  },
  {
   "cell_type": "code",
   "execution_count": 49,
   "metadata": {},
   "outputs": [
    {
     "name": "stdout",
     "output_type": "stream",
     "text": [
      "True\n"
     ]
    }
   ],
   "source": [
    "print(your_set3.issuperset(my_set3))"
   ]
  },
  {
   "cell_type": "markdown",
   "metadata": {},
   "source": [
    "<h2 id='ternaryoperator'>Ternary Operator</h2>\n",
    "\n",
    "-   [Ternary Operator - Official Docs](https://book.pythontips.com/en/latest/ternary_operators.html)\n",
    "-   Ternary operators are more commonly known as conditional expressions in Python. These operators evaluate something based on a condition being true or not. They became a part of Python in version 2.4\n",
    "\n",
    "    ```Python\n",
    "      value_if_true if condition else value_if_false\n",
    "    ```"
   ]
  },
  {
   "cell_type": "code",
   "execution_count": 51,
   "metadata": {},
   "outputs": [
    {
     "name": "stdout",
     "output_type": "stream",
     "text": [
      "nice\n"
     ]
    }
   ],
   "source": [
    "is_nice = True\n",
    "state = \"nice\" if is_nice else \"not nice\"\n",
    "print(state)"
   ]
  },
  {
   "cell_type": "markdown",
   "metadata": {},
   "source": [
    "<h2 id='equalis'>== vs is</h2>\n",
    "\n",
    "-   `==` checks for equality value\n",
    "-   `is` checks for memory location\n"
   ]
  },
  {
   "cell_type": "code",
   "execution_count": 54,
   "metadata": {},
   "outputs": [
    {
     "name": "stdout",
     "output_type": "stream",
     "text": [
      "True\n",
      "True\n",
      "True\n",
      "True\n",
      "True\n",
      "\n",
      "True\n",
      "True\n",
      "False\n",
      "True\n",
      "False\n"
     ]
    }
   ],
   "source": [
    "print(True == True)\n",
    "print('1' == '1')\n",
    "print([] == [])\n",
    "print(10 == 10)\n",
    "print([1,2,3] == [1,2,3])\n",
    "\n",
    "print()\n",
    "print(True is True)\n",
    "print('1' is '1')\n",
    "print([] is [])\n",
    "print(10 is 10)\n",
    "print([1,2,3] is [1,2,3])"
   ]
  },
  {
   "cell_type": "markdown",
   "metadata": {},
   "source": [
    "<h2 id='iterables'>Iterables</h2>\n",
    "\n",
    "-   We can iterate through a `list/dictionary/tuples/sets/string` and use a shorthand to get the `key/value`"
   ]
  },
  {
   "cell_type": "code",
   "execution_count": 60,
   "metadata": {},
   "outputs": [
    {
     "name": "stdout",
     "output_type": "stream",
     "text": [
      "name Roger\n",
      "age 33\n",
      "can_swim False\n",
      "\n",
      "Roger\n",
      "33\n",
      "False\n",
      "\n",
      "name\n",
      "age\n",
      "can_swim\n"
     ]
    }
   ],
   "source": [
    "user = {\n",
    "    'name': 'Roger',\n",
    "    'age': 33,\n",
    "    'can_swim': False\n",
    "}\n",
    "\n",
    "for key, value in user.items():\n",
    "    print(key, value)\n",
    "print()\n",
    "for value in user.values():\n",
    "    print(value)\n",
    "print()\n",
    "for key in user.keys():\n",
    "    print(key)"
   ]
  },
  {
   "cell_type": "markdown",
   "metadata": {},
   "source": [
    "<h3 id='range'>Range</h3>\n",
    "\n",
    "-   We can use `range()` that creates a special kind of object that we can iterate\n",
    "-   `range(start, stop, step)`\n",
    "\n",
    "    -   by default the step is not specified is `1`"
   ]
  },
  {
   "cell_type": "code",
   "execution_count": 59,
   "metadata": {},
   "outputs": [
    {
     "name": "stdout",
     "output_type": "stream",
     "text": [
      "0\n",
      "1\n",
      "2\n",
      "3\n",
      "4\n",
      "5\n",
      "6\n",
      "7\n",
      "8\n",
      "9\n"
     ]
    }
   ],
   "source": [
    "for number in range(0,10):\n",
    "    print(number)"
   ]
  },
  {
   "cell_type": "markdown",
   "metadata": {},
   "source": [
    "<h3 id='enumerate'>Enumerate</h3>\n",
    "\n",
    "-   Using enumerate, it gives us accesses to the index for the `list/dictionary/tuples/sets/string`"
   ]
  },
  {
   "cell_type": "code",
   "execution_count": 61,
   "metadata": {},
   "outputs": [
    {
     "name": "stdout",
     "output_type": "stream",
     "text": [
      "0 H\n",
      "1 e\n",
      "2 l\n",
      "3 l\n",
      "4 l\n",
      "5 l\n",
      "6 o\n",
      "7 o\n",
      "8 o\n",
      "9 o\n",
      "10 o\n",
      "11 o\n"
     ]
    }
   ],
   "source": [
    "for index, value in enumerate('Helllloooooo'):\n",
    "    print(index, value)"
   ]
  },
  {
   "cell_type": "code",
   "execution_count": null,
   "metadata": {},
   "outputs": [],
   "source": []
  },
  {
   "cell_type": "code",
   "execution_count": 63,
   "metadata": {},
   "outputs": [
    {
     "name": "stdout",
     "output_type": "stream",
     "text": [
      "0\n",
      "---------------------\n",
      "0\n",
      "1\n",
      "2\n",
      "3\n",
      "4\n",
      "5\n",
      "6\n",
      "7\n",
      "8\n",
      "9\n",
      "This msg will be printed after 9\n"
     ]
    }
   ],
   "source": [
    "i = 0\n",
    "while i < 10:\n",
    "    print (i)\n",
    "    i += 1;\n",
    "    break\n",
    "else:\n",
    "    print('This msg will never be printed')\n",
    "print('---------------------')\n",
    "j = 0\n",
    "while j < 10:\n",
    "    print (j)\n",
    "    j += 1;\n",
    "else:\n",
    "    print('This msg will be printed after 9')"
   ]
  },
  {
   "cell_type": "markdown",
   "metadata": {},
   "source": [
    "<h2 id='functions'>Functions</h2>"
   ]
  },
  {
   "cell_type": "code",
   "execution_count": 68,
   "metadata": {},
   "outputs": [
    {
     "name": "stdout",
     "output_type": "stream",
     "text": [
      "Welcome home, Roger 👍🏻\n"
     ]
    }
   ],
   "source": [
    "msg = 'Welcome home'\n",
    "def say_greetings(name, emoji):\n",
    "    print(f'{msg}, {name} {emoji}')\n",
    "\n",
    "say_greetings('Roger', '👍🏻')"
   ]
  },
  {
   "cell_type": "markdown",
   "metadata": {},
   "source": [
    "<h3 id='keywordvspositional'>Keyword Arguments vs Positional Arguments</h3>\n",
    "\n",
    "-   With `keywords` we don't need to pass the parameters in order as it appears"
   ]
  },
  {
   "cell_type": "code",
   "execution_count": 69,
   "metadata": {},
   "outputs": [
    {
     "name": "stdout",
     "output_type": "stream",
     "text": [
      "Welcome home, Roger 👍🏻\n"
     ]
    }
   ],
   "source": [
    "msg = 'Welcome home'\n",
    "def say_greetings(name, emoji):\n",
    "    print(f'{msg}, {name} {emoji}')\n",
    "\n",
    "say_greetings(emoji = '👍🏻', name = 'Roger')"
   ]
  },
  {
   "cell_type": "markdown",
   "metadata": {},
   "source": [
    "<h3 id='defaultparameters'>Default Parameters</h3>\n",
    "\n",
    "- We can assign default parameters if none is given"
   ]
  },
  {
   "cell_type": "code",
   "execution_count": 70,
   "metadata": {},
   "outputs": [
    {
     "name": "stdout",
     "output_type": "stream",
     "text": [
      "Welcome home, Guest 😎\n"
     ]
    }
   ],
   "source": [
    "msg = 'Welcome home'\n",
    "def say_greetings(name = 'Guest', emoji = '😎'):\n",
    "    print(f'{msg}, {name} {emoji}')\n",
    "\n",
    "say_greetings()"
   ]
  },
  {
   "cell_type": "markdown",
   "metadata": {},
   "source": [
    "<h3 id='docstrings'>Docstrings</h3>\n",
    "\n",
    "-   `Docstrings` is a way to add extra info / definitions to our function"
   ]
  },
  {
   "cell_type": "code",
   "execution_count": 72,
   "metadata": {},
   "outputs": [
    {
     "name": "stdout",
     "output_type": "stream",
     "text": [
      "!!!!\n"
     ]
    }
   ],
   "source": [
    "def extra_info_function(a):\n",
    "    '''\n",
    "    Info: this function prints param a\n",
    "    '''\n",
    "    print(a)\n",
    "\n",
    "extra_info_function('!!!!')"
   ]
  },
  {
   "cell_type": "markdown",
   "metadata": {},
   "source": [
    "-   an alternative, we can use `help()` to know more about the function, we just need to point to the function, ot execute the function (`()`)"
   ]
  },
  {
   "cell_type": "code",
   "execution_count": 73,
   "metadata": {},
   "outputs": [
    {
     "name": "stdout",
     "output_type": "stream",
     "text": [
      "Help on function extra_info_function in module __main__:\n",
      "\n",
      "extra_info_function(a)\n",
      "    Info: this function prints param a\n",
      "\n"
     ]
    }
   ],
   "source": [
    "help(extra_info_function)"
   ]
  },
  {
   "cell_type": "markdown",
   "metadata": {},
   "source": [
    "-   we could also use `Dunder` or `Magic Methods`\n",
    "\n",
    "    -   Dunder or magic methods in Python are the methods having two prefix and suffix underscores in the method name. Dunder here means “Double Under (Underscores)”. These are commonly used for operator overloading. Few examples for magic methods are: **init**, **add**, **len**, **repr** etc.\n",
    "    -   Python lets our classes inherit from built-in classes. An inheriting child class of a built-in shares all the same attributes, including methods as the built-in. We can take advantage of core built-in functionality, but customize selected operations through the use of magic methods."
   ]
  },
  {
   "cell_type": "code",
   "execution_count": 74,
   "metadata": {},
   "outputs": [
    {
     "name": "stdout",
     "output_type": "stream",
     "text": [
      "\n",
      "    Info: this function prints param a\n",
      "    \n"
     ]
    }
   ],
   "source": [
    "print(extra_info_function.__doc__)"
   ]
  },
  {
   "cell_type": "markdown",
   "metadata": {},
   "source": [
    "<h3 id='argskwargs'>*args *kwargs</h3>\n",
    "\n",
    "- **Rule**: `params`, `*args`, `default parameters`, `**kwargs`"
   ]
  },
  {
   "cell_type": "code",
   "execution_count": 78,
   "metadata": {},
   "outputs": [
    {
     "name": "stdout",
     "output_type": "stream",
     "text": [
      "30\n"
     ]
    }
   ],
   "source": [
    "def super_func(*args, **kwargs):\n",
    "    total = 0\n",
    "    for items in kwargs.values():\n",
    "        total += items\n",
    "    return sum(args) + total\n",
    "\n",
    "print(super_func(1,2,3,4,5, num1 = 5, num2 = 10))"
   ]
  },
  {
   "cell_type": "code",
   "execution_count": null,
   "metadata": {},
   "outputs": [],
   "source": []
  }
 ],
 "metadata": {
  "kernelspec": {
   "display_name": "Python 3",
   "language": "python",
   "name": "python3"
  },
  "language_info": {
   "codemirror_mode": {
    "name": "ipython",
    "version": 3
   },
   "file_extension": ".py",
   "mimetype": "text/x-python",
   "name": "python",
   "nbconvert_exporter": "python",
   "pygments_lexer": "ipython3",
   "version": "3.7.5"
  }
 },
 "nbformat": 4,
 "nbformat_minor": 2
}
