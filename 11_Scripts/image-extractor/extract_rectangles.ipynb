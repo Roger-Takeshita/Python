{
 "cells": [
  {
   "cell_type": "markdown",
   "source": [
    "# Extract Rectangles From Image\n",
    "\n",
    "## Links\n",
    "\n",
    "- [Extract bounding box and save it as an image](https://stackoverflow.com/questions/13887863/extract-bounding-box-and-save-it-as-an-image)\n",
    "- [Drawing Bounding box around given size Area contour](https://stackoverflow.com/questions/23398926/drawing-bounding-box-around-given-size-area-contour)\n",
    "- [extract_rect.py](https://gist.github.com/siphomateke/78cc10a5c0a978f9399098e92754c1ce)\n",
    "- [Image Thresholding](https://docs.opencv.org/4.x/d7/dd0/tutorial_js_thresholding.html)\n",
    "- [Contours](https://docs.opencv.org/4.x/d4/d73/tutorial_py_contours_begin.html)"
   ],
   "metadata": {}
  },
  {
   "cell_type": "code",
   "execution_count": 7,
   "source": [
    "\n",
    "import cv2\n",
    "\n",
    "# Counter\n",
    "ROI_number = 0\n",
    "\n",
    "# Read image\n",
    "image = cv2.imread(\"002.png\")\n",
    "\n",
    "# Copy original image\n",
    "image_copy = image.copy()\n",
    "\n",
    "# Convert image to grayscale\n",
    "image_gray = cv2.cvtColor(image, cv2.COLOR_BGR2GRAY)"
   ],
   "outputs": [],
   "metadata": {}
  },
  {
   "cell_type": "markdown",
   "source": [
    "## Treshhold\n",
    "\n",
    "- [Image Thresholding](https://docs.opencv.org/4.x/d7/dd0/tutorial_js_thresholding.html)\n",
    "\n",
    "If pixel value is greater than a threshold value, it is assigned one value (may be white), else it is assigned another value (may be black).\n",
    "\n",
    "We use the function: `cv.threshold (src, dst, thresh, maxval, type)`\n",
    "\n",
    "Parameters:\n",
    "\n",
    "- `src`\tinput array.\n",
    "- `dst`\toutput array of the same size and type and the same number of channels as src.\n",
    "`thresh` threshold value.\n",
    "- `maxval` maximum value to use with the `cv.THRESH_BINARY` and `cv.THRESH_BINARY_INV` thresholding types.\n",
    "- `type` thresholding type(see cv.ThresholdTypes).\n",
    "\n",
    "1. The first argument is the source image, which should be a grayscale image.\n",
    "2. The second argument is the threshold value which is used to classify the pixel values.\n",
    "3. The third argument is the maximum value which is assigned to pixel values exceeding the threshold.\n",
    "4. OpenCV provides different types of thresholding which is given by the fourth parameter of the function.\n",
    "\n",
    "    - cv.THRESH_BINARY\n",
    "    - cv.THRESH_BINARY_INV\n",
    "    - cv.THRESH_TRUNC\n",
    "    - cv.THRESH_TOZERO\n",
    "    - cv.THRESH_TOZERO_INV\n",
    "\n",
    "> `The THRESH_OTSU`, use Otsu algorithm to choose the optimal threshold value"
   ],
   "metadata": {}
  },
  {
   "cell_type": "code",
   "execution_count": 8,
   "source": [
    "# Get threshold\n",
    "thresh = cv2.threshold(image_gray, 0, 255, cv2.THRESH_BINARY_INV + cv2.THRESH_OTSU)[1]"
   ],
   "outputs": [],
   "metadata": {}
  },
  {
   "cell_type": "markdown",
   "source": [
    "## Contours\n",
    "\n",
    "- [Contours](https://docs.opencv.org/4.x/d4/d73/tutorial_py_contours_begin.html)\n",
    "\n",
    "Contours can be explained simply as a curve joining all the continuous points (along the boundary), having same color or intensity. The contours are a useful tool for shape analysis and object detection and recognition.\n",
    "\n",
    "- For better accuracy, use binary images. So before finding contours, apply threshold or canny edge detection.\n",
    "\n",
    "\n",
    "```Python\n",
    "  import numpy as np\n",
    "  import cv2 as cv\n",
    "  im = cv.imread('test.jpg')\n",
    "  imgray = cv.cvtColor(im, cv.COLOR_BGR2GRAY)\n",
    "  ret, thresh = cv.threshold(imgray, 127, 255, 0)\n",
    "  contours, hierarchy = cv.findContours(thresh, cv.RETR_TREE, cv.CHAIN_APPROX_SIMPLE)\n",
    "```\n",
    "\n",
    "See, there are three arguments in [cv.findContours()](https://docs.opencv.org/4.x/d3/dc0/group__imgproc__shape.html#gadf1ad6a0b82947fa1fe3c3d497f260e0) function\n",
    "\n",
    "1. first one is source image\n",
    "2. second is contour retrieval mode\n",
    "3. third is contour approximation method. \n",
    "\n",
    "And it outputs the **contours** and **hierarchy**. Contours is a Python list of all the contours in the image. Each individual contour is a Numpy `array` of `(x,y)` **coordinates of boundary points of the object**.\n",
    "\n",
    "### Contour Approximation Method\n",
    "\n",
    "This is the third argument in [cv.findContours](https://docs.opencv.org/4.x/d3/dc0/group__imgproc__shape.html#gadf1ad6a0b82947fa1fe3c3d497f260e0) function. What does it denote actually?\n",
    "\n",
    "Above, we told that contours are the boundaries of a shape with same intensity. It stores the (x,y) coordinates of the boundary of a shape. But does it store all the coordinates ? That is specified by this contour approximation method.\n",
    "\n",
    "If you pass [cv.CHAIN_APPROX_NONE](https://docs.opencv.org/4.x/d3/dc0/group__imgproc__shape.html#gga4303f45752694956374734a03c54d5ffaf7d9a3582d021d5dadcb0e37201a62f8), all the boundary points are stored. But actually do we need all the points? For eg, you found the contour of a straight line. Do you need all the points on the line to represent that line? No, we need just two end points of that line. This is what [cv.CHAIN_APPROX_SIMPLE](https://docs.opencv.org/4.x/d3/dc0/group__imgproc__shape.html#gga4303f45752694956374734a03c54d5ffa5f2883048e654999209f88ba04c302f5) does. It removes all redundant points and compresses the contour, thereby saving memory.\n",
    "\n",
    "Below image of a rectangle demonstrate this technique. Just draw a circle on all the coordinates in the contour array (drawn in blue color). First image shows points I got with [cv.CHAIN_APPROX_NONE](https://docs.opencv.org/4.x/d3/dc0/group__imgproc__shape.html#gga4303f45752694956374734a03c54d5ffaf7d9a3582d021d5dadcb0e37201a62f8) (734 points) and second image shows the one with [cv.CHAIN_APPROX_SIMPLE](https://docs.opencv.org/4.x/d3/dc0/group__imgproc__shape.html#gga4303f45752694956374734a03c54d5ffa5f2883048e654999209f88ba04c302f5) (only 4 points). See, how much memory it saves!!!\n",
    "\n",
    "![](https://docs.opencv.org/4.x/none.jpg)"
   ],
   "metadata": {}
  },
  {
   "cell_type": "code",
   "execution_count": 9,
   "source": [
    "contours, _ = cv2.findContours(thresh, cv2.RETR_LIST, cv2.CHAIN_APPROX_SIMPLE)"
   ],
   "outputs": [],
   "metadata": {}
  },
  {
   "cell_type": "code",
   "execution_count": 10,
   "source": [
    "for c in contours:\n",
    "    rect = cv2.boundingRect(c)\n",
    "    if rect[2] < 100 or rect[3] < 100:\n",
    "        continue\n",
    "    x, y, w, h = rect\n",
    "    ROI = image[y : y + h, x : x + w]\n",
    "    cv2.imwrite(\"extracted/extract_rectangles_{}.png\".format(ROI_number),ROI)\n",
    "    cv2.rectangle(image_copy, (x, y), (x + w, y + h), (0, 255, 0), 2)\n",
    "    ROI_number += 1"
   ],
   "outputs": [],
   "metadata": {}
  }
 ],
 "metadata": {
  "orig_nbformat": 4,
  "language_info": {
   "name": "python",
   "version": "3.9.8",
   "mimetype": "text/x-python",
   "codemirror_mode": {
    "name": "ipython",
    "version": 3
   },
   "pygments_lexer": "ipython3",
   "nbconvert_exporter": "python",
   "file_extension": ".py"
  },
  "kernelspec": {
   "name": "python3",
   "display_name": "Python 3.9.7 64-bit"
  },
  "interpreter": {
   "hash": "aee8b7b246df8f9039afb4144a1f6fd8d2ca17a180786b69acc140d282b71a49"
  }
 },
 "nbformat": 4,
 "nbformat_minor": 2
}