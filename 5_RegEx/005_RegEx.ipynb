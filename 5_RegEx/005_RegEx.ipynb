{
 "cells": [
  {
   "cell_type": "markdown",
   "metadata": {},
   "source": [
    "<h1 id='regex'>RegEx</h1>\n",
    "\n",
    "-   To use Regular Expressions we have to import a module called `re`\n",
    "\n",
    "-   Support for regular expressions (RE).\n",
    "-   This module provides regular expression matching operations similar to those found in Perl. It supports both 8-bit and Unicode strings; both the pattern and the strings being processed can contain null bytes and characters outside the US ASCII range.\n",
    "\n",
    "-   Regular expressions can contain both special and ordinary characters. Most ordinary characters, like \"A\", \"a\", or \"0\", are the simplest regular expressions; they simply match themselves. You can concatenate ordinary characters, so last matches the string 'last'.\n",
    "\n",
    "-   The special characters are:\n",
    "\n",
    "    -   `.` Matches any character except a newline.\n",
    "    -   `^` Matches the start of the string.\n",
    "    -   `\\$` Matches the end of the string or just before the newline at the end of the string.\n",
    "    -   `\\*` Matches 0 or more (greedy) repetitions of the preceding RE. Greedy means that it will match as many repetitions as possible.\n",
    "    -   `+` Matches 1 or more (greedy) repetitions of the preceding RE.\n",
    "    -   `?` Matches 0 or 1 (greedy) of the preceding RE.\n",
    "    -   `\\*?`,`+?`,`??` Non-greedy versions of the previous three special characters.\n",
    "    -   `{m,n}` Matches from m to n repetitions of the preceding RE.\n",
    "    -   `{m,n}?` Non-greedy version of the above.\n",
    "    -   `\\\\` Either escapes special characters or signals a special sequence.\n",
    "    -   `[]` Indicates a set of characters. A \"^\" as the first character indicates a complementing set.\n",
    "    -   `|` A|B, creates an RE that will match either A or B.\n",
    "    -   `(...)` Matches the RE inside the parentheses. The contents can be retrieved or matched later in the string.\n",
    "    -   `(?aiLmsux)` Set the A, I, L, M, S, U, or X flag for the RE (see below).\n",
    "    -   `(?:...)` Non-grouping version of regular parentheses.\n",
    "    -   `(?P<name>...)` The substring matched by the group is accessible by name.\n",
    "    -   `(?P=name)` Matches the text matched earlier by the group named name.\n",
    "    -   `(?#...)` A comment; ignored.\n",
    "    -   `(?=...)` Matches if ... matches next, but doesn't consume the string.\n",
    "    -   `(?!...)` Matches if ... doesn't match next.\n",
    "    -   `(?<=...)` Matches if preceded by ... (must be fixed length).\n",
    "    -   `(?<!...)` Matches if not preceded by ... (must be fixed length).\n",
    "    -   `(?(id/name)yes|no)` Matches yes pattern if the group with id/name matched, the (optional) no pattern otherwise.\n",
    "\n",
    "-   The special sequences consist of `\\\\` and a character from the list below. If the ordinary character is not on the list, then the resulting RE will match the second character.\n",
    "\n",
    "    -   `\\number`Matches the contents of the group of the same number.\n",
    "    -   `\\A` Matches only at the start of the string.\n",
    "    -   `\\Z` Matches only at the end of the string.\n",
    "    -   `\\b` Matches the empty string, but only at the start or end of a word.\n",
    "    -   `\\B` Matches the empty string, but not at the start or end of a word.\n",
    "    -   `\\d` Matches any decimal digit; equivalent to the set [0-9] in bytes patterns or string patterns with the ASCII flag. In string patterns without the ASCII flag, it will match the whole range of Unicode digits.\n",
    "    -   `\\D` Matches any non-digit character; equivalent to [^\\d].\n",
    "    -   `\\s` Matches any whitespace character; equivalent to [ \\t\\n\\r\\f\\v] in bytes patterns or string patterns with the ASCII flag. In string patterns without the ASCII flag, it will match the whole range of Unicode whitespace characters.\n",
    "    -   `\\S` Matches any non-whitespace character; equivalent to [^\\s].\n",
    "    -   `\\w` Matches any alphanumeric character; equivalent to [a-zA-Z0-9_] in bytes patterns or string patterns with the ASCII flag. In string patterns without the ASCII flag, it will match the range of Unicode alphanumeric characters (letters plus digits plus underscore). With LOCALE, it will match the set [0-9_] plus characters defined as letters for the current locale.\n",
    "    -   `\\W` Matches the complement of \\w.\n",
    "    -   `\\\\` Matches a literal backslash.\n",
    "\n",
    "-   This module exports the following functions:\n",
    "\n",
    "    -   `match` Match a regular expression pattern to the beginning of a string.\n",
    "    -   `fullmatch` Match a regular expression pattern to all of a string.\n",
    "    -   `search` Search a string for the presence of a pattern.\n",
    "    -   `sub` Substitute occurrences of a pattern found in a string.\n",
    "    -   `subn` Same as sub, but also return the number of substitutions made.\n",
    "    -   `split` Split a string by the occurrences of a pattern.\n",
    "    -   `findall` Find all occurrences of a pattern in a string.\n",
    "    -   `finditer` Return an iterator yielding a Match object for each match.\n",
    "    -   `compile` Compile a pattern into a Pattern object.\n",
    "    -   `purge` Clear the regular expression cache.\n",
    "    -   `escape` Backslash all non-alphanumerics in a string.\n",
    "\n",
    "-   Some of the functions in this module takes flags as optional parameters:\n",
    "\n",
    "    -   A ASCII For string patterns, make `\\w`, `\\W`, `\\b`, `\\B`, `\\d`, `\\D` match the corresponding ASCII character categories (rather than the whole Unicode categories, which is the default).\n",
    "    -   For bytes patterns, this flag is the only available behaviour and needn't be specified.\n",
    "    -   `I` IGNORECASE Perform case-insensitive matching.\n",
    "    -   `L` LOCALE Make \\w, \\W, \\b, \\B, dependent on the current locale.\n",
    "    -   `M` MULTILINE \"^\" matches the beginning of lines (after a newline) as well as the string.\n",
    "    -   `\\$` matches the end of lines (before a newline) as well as the end of the string.\n",
    "    -   `S` DOTALL \".\" matches any character at all, including the newline.\n",
    "    -   `X` VERBOSE Ignore whitespace and comments for nicer looking RE's.\n",
    "    -   `U` UNICODE For compatibility only. Ignored for string patterns (it is the default), and forbidden for bytes patterns.\n"
   ]
  },
  {
   "cell_type": "code",
   "execution_count": 1,
   "metadata": {},
   "outputs": [],
   "source": [
    "import re\n",
    "\n",
    "string = 'search this inside of this text please!'\n",
    "\n",
    "try:\n",
    "    match = re.search('this', string)\n",
    "    print(match)\n",
    "    print('Where the string occurs, between', match.span())\n",
    "    print('Where the string starts, on index', match.start())\n",
    "    print('Where the string ends, on index', match.end())\n",
    "    print('Returns the part that was the match', match.group())\n",
    "except AttributeError as error:\n",
    "    print('Match not found')\n",
    "    raise error"
   ]
  },
  {
   "cell_type": "code",
   "execution_count": 2,
   "metadata": {},
   "outputs": [
    {
     "name": "stdout",
     "output_type": "stream",
     "text": [
      "<re.Match object; span=(0, 26), match='search this inside of this'>\n",
      "Returns a list of matches,  ['search this inside of this']\n",
      "Only full match will be returned, None\n",
      "Returns partial match <re.Match object; span=(0, 26), match='search this inside of this'>\n"
     ]
    }
   ],
   "source": [
    "try:\n",
    "    pattern = re.compile('search this inside of this')\n",
    "    print(pattern.search(string))\n",
    "    print('Returns a list of matches, ', pattern.findall(string))\n",
    "    print('Only full match will be returned,', pattern.fullmatch(string))\n",
    "    print('Returns partial match', pattern.match(string))\n",
    "except AttributeError as error:\n",
    "    print('Match not found')\n",
    "    raise error"
   ]
  },
  {
   "cell_type": "code",
   "execution_count": 3,
   "metadata": {},
   "outputs": [
    {
     "name": "stdout",
     "output_type": "stream",
     "text": [
      "<re.Match object; span=(33, 48), match='roger@roger.com'>\n",
      "Returns a list of matches,  ['roger@roger.com']\n"
     ]
    }
   ],
   "source": [
    "email = 'hi my name is roger, my email is roger@roger.com'\n",
    "try:\n",
    "    pattern = re.compile(r'([a-zA-Z0-9_.+-]+@[a-zA-Z0-9-]+\\.[a-zA-Z0-9-.]+[a-zA-Z0-9]$)')\n",
    "    print(pattern.search(email))\n",
    "    print('Returns a list of matches, ', pattern.findall(email))\n",
    "except AttributeError as error:\n",
    "    print('Match not found')\n",
    "    raise error"
   ]
  },
  {
   "cell_type": "code",
   "execution_count": 4,
   "metadata": {},
   "outputs": [
    {
     "name": "stdout",
     "output_type": "stream",
     "text": [
      "Your password is RraasZ$#@8\n"
     ]
    }
   ],
   "source": [
    "password = 'RraasZ$#@8'\n",
    "try:\n",
    "    pattern = re.compile(r'([a-zA-Z$%#@]{8,}\\d+)')\n",
    "    match = pattern.fullmatch(password)\n",
    "    if match:\n",
    "        print(f'Your password is {password}')\n",
    "    else:\n",
    "        print('Invalid password, make sure you password has at least 8 characters long. Available special characters $%#@ and has to end with a number')\n",
    "except AttributeError as error:\n",
    "    print('Match not found')\n",
    "    raise error"
   ]
  },
  {
   "cell_type": "code",
   "execution_count": 5,
   "metadata": {},
   "outputs": [
    {
     "name": "stdout",
     "output_type": "stream",
     "text": [
      "Invalid password, make sure you password has at least 8 characters long. Available special characters $%#@ and has to end with a number\n"
     ]
    }
   ],
   "source": [
    "password = 'RraasZ$#@8a'\n",
    "try:\n",
    "    pattern = re.compile(r'([a-zA-Z$%#@]{8,}\\d+)')\n",
    "    match = pattern.fullmatch(password)\n",
    "    if match:\n",
    "        print(f'Your password is {password}')\n",
    "    else:\n",
    "        print('Invalid password, make sure you password has at least 8 characters long. Available special characters $%#@ and has to end with a number')\n",
    "except AttributeError as error:\n",
    "    print('Match not found')\n",
    "    raise error"
   ]
  },
  {
   "cell_type": "code",
   "execution_count": null,
   "metadata": {},
   "outputs": [],
   "source": []
  }
 ],
 "metadata": {
  "kernelspec": {
   "display_name": "Python 3",
   "language": "python",
   "name": "python3"
  },
  "language_info": {
   "codemirror_mode": {
    "name": "ipython",
    "version": 3
   },
   "file_extension": ".py",
   "mimetype": "text/x-python",
   "name": "python",
   "nbconvert_exporter": "python",
   "pygments_lexer": "ipython3",
   "version": "3.7.5"
  }
 },
 "nbformat": 4,
 "nbformat_minor": 2
}
